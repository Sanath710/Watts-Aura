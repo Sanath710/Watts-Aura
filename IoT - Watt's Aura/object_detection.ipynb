{
 "cells": [
  {
   "cell_type": "code",
   "execution_count": 2,
   "metadata": {},
   "outputs": [],
   "source": [
    "import cv2, time"
   ]
  },
  {
   "cell_type": "code",
   "execution_count": 3,
   "metadata": {},
   "outputs": [],
   "source": [
    "classNames = []\n",
    "classFile = \"dependencies/coco.names\"\n",
    "configPath = \"dependencies/ssd_mobilenet_v3_large_coco_2020_01_14.pbtxt\"\n",
    "weightsPath = \"dependencies/frozen_inference_graph.pb\""
   ]
  },
  {
   "cell_type": "code",
   "execution_count": 5,
   "metadata": {},
   "outputs": [],
   "source": [
    "with open(classFile,\"rt\") as f : \n",
    "    classNames = f.read().rstrip(\"\\n\").split(\"\\n\")\n",
    "\n",
    "model = cv2.dnn_DetectionModel(weightsPath,configPath)\n",
    "model.setInputParams(size=(320, 320), scale=1.0/127.5, mean=(127.5,127.5,127.5) ,swapRB=True)\n",
    "\n",
    "# net.setInputSize(320,320)\n",
    "# net.setInputScale(1.0/ 127.5)\n",
    "# net.setInputMean((127.5, 127.5, 127.5))\n",
    "# net.setInputSwapRB(True)"
   ]
  },
  {
   "cell_type": "code",
   "execution_count": 35,
   "metadata": {},
   "outputs": [],
   "source": [
    "def getObjects(img, thres, nms, draw=True, objects=[]) :\n",
    "    classIds, confs, bbox = model.detect(img,confThreshold=thres,nmsThreshold=nms)\n",
    "    #print(classIds,bbox)\n",
    "    if len(objects) == 0 : objects = classNames\n",
    "    objectInfo =[]\n",
    "    if len(classIds) != 0 : \n",
    "        for classId, confidence, box in zip(classIds.flatten(),confs.flatten(),bbox) :\n",
    "            #confidence\n",
    "            className = classNames[classId - 1]\n",
    "            if className in objects: \n",
    "                objectInfo.append([box,className])\n",
    "                if (draw):\n",
    "                    cv2.rectangle(img,box,color=(0,255,0),thickness=2)\n",
    "                    cv2.putText(img,classNames[classId-1].upper(),(box[0]+10,box[1]+30),\n",
    "                    cv2.FONT_HERSHEY_COMPLEX,1,(0,255,0),2)\n",
    "                    cv2.putText(img,str(round(confidence*100,2)),(box[0]+200,box[1]+30),\n",
    "                    cv2.FONT_HERSHEY_COMPLEX,1,(0,255,0),2)  \n",
    "    \n",
    "    return img, objectInfo"
   ]
  },
  {
   "cell_type": "code",
   "execution_count": 48,
   "metadata": {},
   "outputs": [],
   "source": [
    "if __name__ == \"__main__\":\n",
    "\n",
    "    cap = cv2.VideoCapture(\"test_data/B103-3.mp4\")\n",
    "    cap1 = cv2.VideoCapture(\"test_data/B103.mp4\")\n",
    "    \n",
    "    cap.set(3,640)\n",
    "    cap.set(4,480)\n",
    "  \n",
    "    #cap.set(CV_CAP_PROP_BUFFERSIZE, 3);\n",
    "    \n",
    "    cap1.set(3,640)\n",
    "    cap1.set(4,480)\n",
    "    \n",
    "    #cap.set(10,70)\n",
    "    \n",
    "    \n",
    "    while True:\n",
    "        success, img = cap.read()\n",
    "        result, objectInfo = getObjects(img,0.45,0.2, objects=['person'])\n",
    "        \n",
    "#         success1, img1 = cap1.read()\n",
    "#         result1, objectInfo1 = getObjects(img1,0.45,0.2, objects=['person'])\n",
    "        #print(result)\n",
    "        \n",
    "        if success :\n",
    "            cv2.imshow(\"Output\",img)\n",
    "            \n",
    "#         if success1 :\n",
    "#             cv2.imshow(\"Output1\",img1)\n",
    "            \n",
    "        #cv2.waitKey(1) \n",
    "        if cv2.waitKey(1) & 0xFF == ord('q'):\n",
    "            cap.release()\n",
    "            cap1.release()\n",
    "            cv2.destroyAllWindows()\n",
    "            break"
   ]
  }
 ],
 "metadata": {
  "kernelspec": {
   "display_name": "Python 3",
   "language": "python",
   "name": "python3"
  },
  "language_info": {
   "codemirror_mode": {
    "name": "ipython",
    "version": 3
   },
   "file_extension": ".py",
   "mimetype": "text/x-python",
   "name": "python",
   "nbconvert_exporter": "python",
   "pygments_lexer": "ipython3",
   "version": "3.6.5"
  }
 },
 "nbformat": 4,
 "nbformat_minor": 2
}
