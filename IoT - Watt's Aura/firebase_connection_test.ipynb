{
 "cells": [
  {
   "cell_type": "code",
   "execution_count": 60,
   "metadata": {},
   "outputs": [],
   "source": [
    "import firebase_admin\n",
    "from firebase_admin import credentials\n",
    "from firebase_admin import db\n",
    "from datetime import date"
   ]
  },
  {
   "cell_type": "code",
   "execution_count": 117,
   "metadata": {},
   "outputs": [
    {
     "ename": "NameError",
     "evalue": "name 'GPIO' is not defined",
     "output_type": "error",
     "traceback": [
      "\u001b[1;31m---------------------------------------------------------------------------\u001b[0m",
      "\u001b[1;31mNameError\u001b[0m                                 Traceback (most recent call last)",
      "\u001b[1;32m<ipython-input-117-0f89a6bd7857>\u001b[0m in \u001b[0;36m<module>\u001b[1;34m()\u001b[0m\n\u001b[0;32m      5\u001b[0m \u001b[0mRELAY_1\u001b[0m \u001b[1;33m=\u001b[0m \u001b[1;36m19\u001b[0m\u001b[1;33m\u001b[0m\u001b[0m\n\u001b[0;32m      6\u001b[0m \u001b[0mRELAY_2\u001b[0m \u001b[1;33m=\u001b[0m \u001b[1;36m13\u001b[0m\u001b[1;33m\u001b[0m\u001b[0m\n\u001b[1;32m----> 7\u001b[1;33m \u001b[0mGPIO\u001b[0m\u001b[1;33m.\u001b[0m\u001b[0msetmode\u001b[0m\u001b[1;33m(\u001b[0m\u001b[0mGPIO\u001b[0m\u001b[1;33m.\u001b[0m\u001b[0mBCM\u001b[0m\u001b[1;33m)\u001b[0m\u001b[1;33m\u001b[0m\u001b[0m\n\u001b[0m\u001b[0;32m      8\u001b[0m \u001b[0mGPIO\u001b[0m\u001b[1;33m.\u001b[0m\u001b[0msetup\u001b[0m\u001b[1;33m(\u001b[0m\u001b[0mRELAY_1\u001b[0m\u001b[1;33m,\u001b[0m \u001b[0mGPIO\u001b[0m\u001b[1;33m.\u001b[0m\u001b[0mOUT\u001b[0m\u001b[1;33m)\u001b[0m\u001b[1;33m\u001b[0m\u001b[0m\n\u001b[0;32m      9\u001b[0m \u001b[0mGPIO\u001b[0m\u001b[1;33m.\u001b[0m\u001b[0msetup\u001b[0m\u001b[1;33m(\u001b[0m\u001b[0mRELAY_2\u001b[0m\u001b[1;33m,\u001b[0m \u001b[0mGPIO\u001b[0m\u001b[1;33m.\u001b[0m\u001b[0mOUT\u001b[0m\u001b[1;33m)\u001b[0m\u001b[1;33m\u001b[0m\u001b[0m\n",
      "\u001b[1;31mNameError\u001b[0m: name 'GPIO' is not defined"
     ]
    }
   ],
   "source": [
    "databaseURL = 'https://iot-wattsaura-default-rtdb.firebaseio.com/'\n",
    "department = 'department/'\n",
    "institute = 'SRIMCA/'\n",
    "\n",
    "RELAY_1 = 19\n",
    "RELAY_2 = 13\n",
    "GPIO.setmode(GPIO.BCM)\n",
    "GPIO.setup(RELAY_1, GPIO.OUT)\n",
    "GPIO.setup(RELAY_2, GPIO.OUT)"
   ]
  },
  {
   "cell_type": "code",
   "execution_count": 53,
   "metadata": {},
   "outputs": [],
   "source": [
    "def init() :\n",
    "    if not firebase_admin._apps:\n",
    "        cred_obj = credentials.Certificate('private\\iot-wattsaura-firebase-adminsdk-xa9dd-df6762ca44.json')\n",
    "        default_app = firebase_admin.initialize_app(cred_obj, {'databaseURL':databaseURL})"
   ]
  },
  {
   "cell_type": "code",
   "execution_count": 54,
   "metadata": {},
   "outputs": [],
   "source": [
    "init()"
   ]
  },
  {
   "cell_type": "code",
   "execution_count": 55,
   "metadata": {},
   "outputs": [],
   "source": [
    "def getData() :\n",
    "    ref = db.reference(department+institute)\n",
    "    return dict(ref.order_by_key().get())"
   ]
  },
  {
   "cell_type": "code",
   "execution_count": 56,
   "metadata": {
    "scrolled": true
   },
   "outputs": [
    {
     "data": {
      "text/plain": [
       "{'B': {'105': {'2023-04-22': {'07:29:03': {'status': 1, 'uid': 'kd'},\n",
       "    '20:03:20': {'status': 1, 'uid': '9727510585'}},\n",
       "   '2023-04-23': {'00:53:49': {'status': 1, 'uid': '9727510585'},\n",
       "    '16:36:10': {'status': 0, 'uid': '9727510585'}},\n",
       "   '2023-04-25': {'17:08:07': {'status': 1, 'uid': '9727510585'},\n",
       "    '17:08:16': {'status': 0, 'uid': '9727510585'}},\n",
       "   '2023-04-27': {'11:07:57': {'status': 1, 'uid': '9727510585'},\n",
       "    '11:08:04': {'status': 0, 'uid': '9727510585'},\n",
       "    '11:36:56': {'status': 1, 'uid': '9727510585'},\n",
       "    '11:37:03': {'status': 0, 'uid': '9727510585'}},\n",
       "   '2023-04-28': {'12:34:24': {'status': 1, 'uid': '9727510585'},\n",
       "    '12:35:28': {'status': 0, 'uid': '9727510585'},\n",
       "    '12:36:04': {'status': 1, 'uid': '9727510585'},\n",
       "    '12:36:13': {'status': 0, 'uid': '9727510585'},\n",
       "    '12:36:24': {'status': 1, 'uid': '9727510585'},\n",
       "    '12:36:27': {'status': 0, 'uid': '9727510585'},\n",
       "    '12:37:18': {'status': 1, 'uid': '9727510585'},\n",
       "    '12:37:24': {'status': 0, 'uid': '9727510585'},\n",
       "    '12:37:26': {'status': 1, 'uid': '9727510585'},\n",
       "    '12:37:32': {'status': 0, 'uid': '9727510585'},\n",
       "    '12:40:12': {'status': 1, 'uid': '9727510585'},\n",
       "    '12:40:16': {'status': 0, 'uid': '9727510585'},\n",
       "    '12:40:27': {'status': 1, 'uid': '9727510585'},\n",
       "    '12:40:44': {'status': 0, 'uid': '9727510585'},\n",
       "    '12:45:04': {'status': 1, 'uid': '9727510585'},\n",
       "    '12:45:14': {'status': 0, 'uid': '9727510585'},\n",
       "    '12:45:24': {'status': 1, 'uid': '9727510585'},\n",
       "    '12:45:26': {'status': 1, 'uid': '9727510585'},\n",
       "    '12:45:28': {'status': 0, 'uid': '9727510585'},\n",
       "    '12:45:31': {'status': 0, 'uid': '9727510585'},\n",
       "    '12:55:58': {'status': 1, 'uid': '9727510585'},\n",
       "    '12:56:25': {'status': 0, 'uid': '9727510585'},\n",
       "    '12:57:25': {'status': 1, 'uid': '9727510585'},\n",
       "    '12:57:36': {'status': 0, 'uid': '9727510585'},\n",
       "    '14:37:47': {'status': 1, 'uid': '9727510585'},\n",
       "    '14:38:28': {'status': 0, 'uid': '9727510585'},\n",
       "    '14:38:38': {'status': 1, 'uid': '9727510585'},\n",
       "    '14:38:59': {'status': 0, 'uid': '9727510585'},\n",
       "    '14:42:00': {'status': 1, 'uid': '9727510585'},\n",
       "    '14:43:21': {'status': 0, 'uid': '9727510585'},\n",
       "    '14:43:27': {'status': 1, 'uid': '9727510585'},\n",
       "    '14:45:50': {'status': 0, 'uid': '9727510585'},\n",
       "    '14:55:53': {'status': 1, 'uid': '9727510585'},\n",
       "    '14:56:19': {'status': 0, 'uid': '9727510585'},\n",
       "    '14:57:21': {'status': 1, 'uid': '9727510585'},\n",
       "    '14:57:33': {'status': 0, 'uid': '9727510585'},\n",
       "    '15:07:15': {'status': 1, 'uid': '9727510585'},\n",
       "    '15:07:30': {'status': 0, 'uid': '9727510585'},\n",
       "    '15:08:54': {'status': 1, 'uid': '9727510585'},\n",
       "    '15:09:07': {'status': 0, 'uid': '9727510585'},\n",
       "    '15:09:28': {'status': 1, 'uid': '9727510585'},\n",
       "    '15:09:40': {'status': 0, 'uid': '9727510585'},\n",
       "    '15:09:52': {'status': 1, 'uid': '9727510585'},\n",
       "    '15:10:03': {'status': 0, 'uid': '9727510585'},\n",
       "    '15:10:07': {'status': 1, 'uid': '9727510585'},\n",
       "    '15:10:13': {'status': 0, 'uid': '9727510585'},\n",
       "    '15:26:10': {'status': 1, 'uid': '9727510585'},\n",
       "    '15:27:00': {'status': 0, 'uid': '9727510585'},\n",
       "    '15:28:09': {'status': 1, 'uid': '9727510585'},\n",
       "    '15:31:09': {'status': 0, 'uid': '9727510585'},\n",
       "    '15:31:42': {'status': 1, 'uid': '9727510585'},\n",
       "    '15:32:55': {'status': 0, 'uid': '9727510585'},\n",
       "    '15:33:05': {'status': 1, 'uid': '9727510585'},\n",
       "    '19:34:39': {'status': 0, 'uid': '9727510585'},\n",
       "    '22:39:16': {'status': 1, 'uid': '9727510585'},\n",
       "    '22:39:20': {'status': 0, 'uid': '9727510585'},\n",
       "    '22:39:37': {'status': 0, 'uid': '9727510585'},\n",
       "    '22:39:59': {'status': 1, 'uid': '9727510585'},\n",
       "    '22:40:04': {'status': 0, 'uid': '9727510585'}},\n",
       "   '2023-04-29': {'20:18:24': {'status': 1, 'uid': '9727510585'},\n",
       "    '21:01:20': {'status': 0, 'uid': '9727510585'},\n",
       "    '22:09:14': {'status': 1, 'uid': '9727510585'},\n",
       "    '22:52:15': {'status': 0, 'uid': '\"9727510585\"'},\n",
       "    '23:54:53': {'status': 1, 'uid': '9727510585'},\n",
       "    '23:54:58': {'status': 0, 'uid': '9727510585'}},\n",
       "   '2023-05-04': {'00:00:43': {'status': 1, 'uid': '9727510585'},\n",
       "    '00:02:56': {'status': 0, 'uid': '9727510585'},\n",
       "    '23:12:00': {'status': 1, 'uid': '9727510585'},\n",
       "    '23:14:03': {'status': 0, 'uid': '9727510585'},\n",
       "    '23:14:26': {'status': 1, 'uid': '9727510585'},\n",
       "    '23:14:34': {'status': 0, 'uid': '9727510585'}}},\n",
       "  '106': {'2023-04-22': {'20:27:45': {'status': 0, 'uid': 9727510585}},\n",
       "   '2023-04-23': {'13:36:53': {'status': 1, 'uid': '9727510585'}},\n",
       "   '2023-04-24': {'11:23:24': {'status': 1, 'uid': '9727510585'}},\n",
       "   '2023-04-25': {'17:08:20': {'status': 1, 'uid': '9727510585'},\n",
       "    '17:08:32': {'status': 0, 'uid': '9727510585'}},\n",
       "   '2023-04-26': {'13:30:50': {'status': 1, 'uid': '9727510585'},\n",
       "    '13:30:59': {'status': 0, 'uid': '9727510585'},\n",
       "    '14:23:12': {'status': 1, 'uid': '9727510585'}},\n",
       "   '2023-04-27': {'11:32:40': {'status': 1, 'uid': '9727510585'},\n",
       "    '11:32:55': {'status': 0, 'uid': '9727510585'},\n",
       "    '11:36:48': {'status': 1, 'uid': '9727510585'},\n",
       "    '11:36:58': {'status': 0, 'uid': '9727510585'},\n",
       "    '11:36:59': {'status': 1, 'uid': '9727510585'},\n",
       "    '11:37:00': {'status': 0, 'uid': '9727510585'},\n",
       "    '11:37:01': {'status': 1, 'uid': '9727510585'},\n",
       "    '11:37:02': {'status': 0, 'uid': '9727510585'}},\n",
       "   '2023-04-28': {'12:31:45': {'status': 1, 'uid': '9727510585'},\n",
       "    '12:31:56': {'status': 0, 'uid': '9727510585'},\n",
       "    '12:34:14': {'status': 1, 'uid': '9727510585'},\n",
       "    '12:34:19': {'status': 0, 'uid': '9727510585'},\n",
       "    '12:56:06': {'status': 1, 'uid': '9727510585'},\n",
       "    '12:56:12': {'status': 0, 'uid': '9727510585'},\n",
       "    '12:56:14': {'status': 1, 'uid': '9727510585'},\n",
       "    '12:56:17': {'status': 0, 'uid': '9727510585'},\n",
       "    '14:38:32': {'status': 1, 'uid': '9727510585'},\n",
       "    '14:38:45': {'status': 0, 'uid': '9727510585'},\n",
       "    '14:43:26': {'status': 1, 'uid': '9727510585'},\n",
       "    '14:45:59': {'status': 0, 'uid': '9727510585'},\n",
       "    '14:56:46': {'status': 1, 'uid': '9727510585'},\n",
       "    '14:57:03': {'status': 0, 'uid': '9727510585'},\n",
       "    '14:57:05': {'status': 1, 'uid': '9727510585'},\n",
       "    '14:57:20': {'status': 0, 'uid': '9727510585'},\n",
       "    '15:09:56': {'status': 1, 'uid': '9727510585'},\n",
       "    '15:10:00': {'status': 0, 'uid': '9727510585'},\n",
       "    '15:10:08': {'status': 1, 'uid': '9727510585'},\n",
       "    '15:10:12': {'status': 0, 'uid': '9727510585'},\n",
       "    '15:31:52': {'status': 1, 'uid': '9727510585'},\n",
       "    '15:32:01': {'status': 0, 'uid': '9727510585'},\n",
       "    '15:32:21': {'status': 1, 'uid': '9727510585'},\n",
       "    '15:32:27': {'status': 0, 'uid': '9727510585'},\n",
       "    '22:39:38': {'status': 1, 'uid': '9727510585'},\n",
       "    '22:39:41': {'status': 0, 'uid': '9727510585'}},\n",
       "   '2023-04-29': {'21:21:19': {'status': 1, 'uid': '9727510585'},\n",
       "    '21:29:29': {'status': 0, 'uid': '9727510585'},\n",
       "    '23:37:47': {'status': 1, 'uid': '9727510585'},\n",
       "    '23:37:48': {'status': 0, 'uid': '9727510585'},\n",
       "    '23:37:53': {'status': 1, 'uid': '9727510585'},\n",
       "    '23:37:54': {'status': 0, 'uid': '9727510585'}},\n",
       "   '2023-04-30': {'11:39:30': {'status': 1, 'uid': '9727510585'},\n",
       "    '11:40:12': {'status': 0, 'uid': '9727510585'},\n",
       "    '13:25:40': {'status': 1, 'uid': '9727510585'},\n",
       "    '13:25:50': {'status': 0, 'uid': '9727510585'}},\n",
       "   '2023-05-04': {'23:12:45': {'status': 1, 'uid': '9727510585'},\n",
       "    '23:13:13': {'status': 0, 'uid': '9727510585'},\n",
       "    '23:13:25': {'status': 1, 'uid': '9727510585'},\n",
       "    '23:14:16': {'status': 0, 'uid': '9727510585'},\n",
       "    '23:14:35': {'status': 1, 'uid': '9727510585'},\n",
       "    '23:14:41': {'status': 0, 'uid': '9727510585'}}}}}"
      ]
     },
     "execution_count": 56,
     "metadata": {},
     "output_type": "execute_result"
    }
   ],
   "source": [
    "getData()"
   ]
  },
  {
   "cell_type": "code",
   "execution_count": 49,
   "metadata": {},
   "outputs": [
    {
     "data": {
      "text/plain": [
       "dict_keys(['B'])"
      ]
     },
     "execution_count": 49,
     "metadata": {},
     "output_type": "execute_result"
    }
   ],
   "source": [
    "getData().keys()"
   ]
  },
  {
   "cell_type": "markdown",
   "metadata": {},
   "source": [
    "### Raspi Code"
   ]
  },
  {
   "cell_type": "code",
   "execution_count": 116,
   "metadata": {},
   "outputs": [],
   "source": [
    "# import firebase_admin, time\n",
    "# from firebase_admin import credentials\n",
    "# from firebase_admin import db\n",
    "# from datetime import date\n",
    "# import RPi.GPIO as GPIO\n",
    "\n",
    "# databaseURL = 'https://iot-wattsaura-default-rtdb.firebaseio.com/'\n",
    "# department = 'department/'\n",
    "# institute = 'SRIMCA/'\n",
    "\n",
    "# RELAY_1 = 19\n",
    "# RELAY_2 = 13\n",
    "# rooms = {\"B105\":0, \"B106\":1}\n",
    "# POWER = [RELAY_1, RELAY_2]\n",
    "\n",
    "# GPIO.setmode(GPIO.BCM)\n",
    "# GPIO.setwarnings(False)\n",
    "# GPIO.setup(RELAY_1, GPIO.OUT)\n",
    "# GPIO.setup(RELAY_2, GPIO.OUT)\n",
    "# ref = None # db reference\n",
    "\n",
    "# def init() :\n",
    "#     if not firebase_admin._apps:\n",
    "#         cred_obj = credentials.Certificate('/home/pi/Desktop/Team 7/private/iot-wattsaura-firebase-adminsdk-xa9dd-df6762ca44.json')\n",
    "#         default_app = firebase_admin.initialize_app(cred_obj, {'databaseURL':databaseURL})\n",
    "    \n",
    "# init()\n",
    "\n",
    "def getData() :\n",
    "    global ref\n",
    "    ref = db.reference(department+institute)\n",
    "    return dict(ref.order_by_key().get())\n",
    "\n",
    "# def run() :\n",
    "#     for block, v in getData().items() :\n",
    "#         for roomNo, v1 in v.items() :\n",
    "#             data = ref.child(block+\"/\"+roomNo+\"/\"+str(date.today())).get()\n",
    "#             if data is not None :\n",
    "#                 data = list(data.keys())[-1]\n",
    "#                 r = ref.child(block+\"/\"+roomNo+\"/\"+str(date.today())+\"/\"+data).get()\n",
    "#                 if r['status'] == 1 :\n",
    "#                     #print(\"Relay 1 - On\")\n",
    "#                     GPIO.output(POWER[rooms[block+roomNo]], False)\n",
    "#                 else :\n",
    "#                     #print(\"Relay 1 - Off\")\n",
    "#                     GPIO.output(POWER[rooms[block+roomNo]], True)\n",
    "\n",
    "# while True :\n",
    "#     run()\n",
    "#     #time.sleep(2)"
   ]
  }
 ],
 "metadata": {
  "kernelspec": {
   "display_name": "Python 3",
   "language": "python",
   "name": "python3"
  },
  "language_info": {
   "codemirror_mode": {
    "name": "ipython",
    "version": 3
   },
   "file_extension": ".py",
   "mimetype": "text/x-python",
   "name": "python",
   "nbconvert_exporter": "python",
   "pygments_lexer": "ipython3",
   "version": "3.6.5"
  }
 },
 "nbformat": 4,
 "nbformat_minor": 2
}
